{
 "cells": [
  {
   "cell_type": "code",
   "execution_count": 123,
   "metadata": {},
   "outputs": [],
   "source": [
    "import numpy as np\n",
    "import pandas as pd\n",
    "import utils\n",
    "import  math\n",
    "from scipy import optimize\n",
    "from itertools import combinations"
   ]
  },
  {
   "cell_type": "code",
   "execution_count": 124,
   "metadata": {},
   "outputs": [],
   "source": [
    "from sklearn import linear_model\n",
    "from sklearn import ensemble\n",
    "from sklearn.model_selection import train_test_split\n",
    "from sklearn.metrics import confusion_matrix, roc_curve, roc_auc_score\n",
    "from sklearn.pipeline import Pipeline\n",
    "from sklearn.preprocessing import PolynomialFeatures\n",
    "\n",
    "# machine learning\n",
    "from sklearn.linear_model import LogisticRegression\n",
    "from sklearn.svm import SVC, LinearSVC\n",
    "from sklearn.ensemble import RandomForestClassifier\n",
    "from sklearn.neighbors import KNeighborsClassifier\n",
    "from sklearn.naive_bayes import GaussianNB\n",
    "from sklearn.linear_model import Perceptron\n",
    "from sklearn.linear_model import SGDClassifier\n",
    "from sklearn.tree import DecisionTreeClassifier\n",
    "from sklearn.linear_model import LinearRegression"
   ]
  },
  {
   "cell_type": "code",
   "execution_count": 125,
   "metadata": {},
   "outputs": [],
   "source": [
    "groups = pd.read_csv('Fifa_Worldcup_2022_Groups_Final.csv')\n",
    "data = pd.read_csv('Past_International_Matches.csv')\n"
   ]
  },
  {
   "cell_type": "code",
   "execution_count": 126,
   "metadata": {},
   "outputs": [
    {
     "data": {
      "text/html": [
       "<div>\n",
       "<style scoped>\n",
       "    .dataframe tbody tr th:only-of-type {\n",
       "        vertical-align: middle;\n",
       "    }\n",
       "\n",
       "    .dataframe tbody tr th {\n",
       "        vertical-align: top;\n",
       "    }\n",
       "\n",
       "    .dataframe thead th {\n",
       "        text-align: right;\n",
       "    }\n",
       "</style>\n",
       "<table border=\"1\" class=\"dataframe\">\n",
       "  <thead>\n",
       "    <tr style=\"text-align: right;\">\n",
       "      <th></th>\n",
       "      <th>Group</th>\n",
       "      <th>Country_Name</th>\n",
       "      <th>First</th>\n",
       "      <th>Match_index</th>\n",
       "      <th>Second</th>\n",
       "      <th>Match_index.1</th>\n",
       "      <th>Third</th>\n",
       "      <th>Match_index.2</th>\n",
       "    </tr>\n",
       "  </thead>\n",
       "  <tbody>\n",
       "    <tr>\n",
       "      <th>0</th>\n",
       "      <td>A</td>\n",
       "      <td>Qatar</td>\n",
       "      <td>Ecuador</td>\n",
       "      <td>1</td>\n",
       "      <td>Senegal</td>\n",
       "      <td>17</td>\n",
       "      <td>Netherlands</td>\n",
       "      <td>33</td>\n",
       "    </tr>\n",
       "    <tr>\n",
       "      <th>1</th>\n",
       "      <td>A</td>\n",
       "      <td>Ecuador</td>\n",
       "      <td>Qatar</td>\n",
       "      <td>1</td>\n",
       "      <td>Netherlands</td>\n",
       "      <td>18</td>\n",
       "      <td>Senegal</td>\n",
       "      <td>34</td>\n",
       "    </tr>\n",
       "    <tr>\n",
       "      <th>2</th>\n",
       "      <td>A</td>\n",
       "      <td>Senegal</td>\n",
       "      <td>Netherlands</td>\n",
       "      <td>2</td>\n",
       "      <td>Qatar</td>\n",
       "      <td>17</td>\n",
       "      <td>Ecuador</td>\n",
       "      <td>34</td>\n",
       "    </tr>\n",
       "    <tr>\n",
       "      <th>3</th>\n",
       "      <td>A</td>\n",
       "      <td>Netherlands</td>\n",
       "      <td>Senegal</td>\n",
       "      <td>2</td>\n",
       "      <td>Ecuador</td>\n",
       "      <td>18</td>\n",
       "      <td>Qatar</td>\n",
       "      <td>33</td>\n",
       "    </tr>\n",
       "    <tr>\n",
       "      <th>4</th>\n",
       "      <td>B</td>\n",
       "      <td>England</td>\n",
       "      <td>IR Iran</td>\n",
       "      <td>3</td>\n",
       "      <td>USA</td>\n",
       "      <td>19</td>\n",
       "      <td>Wales</td>\n",
       "      <td>35</td>\n",
       "    </tr>\n",
       "  </tbody>\n",
       "</table>\n",
       "</div>"
      ],
      "text/plain": [
       "  Group Country_Name        First  Match_index       Second  Match_index.1  \\\n",
       "0     A        Qatar      Ecuador            1      Senegal             17   \n",
       "1     A      Ecuador        Qatar            1  Netherlands             18   \n",
       "2     A      Senegal  Netherlands            2        Qatar             17   \n",
       "3     A  Netherlands      Senegal            2      Ecuador             18   \n",
       "4     B      England      IR Iran            3          USA             19   \n",
       "\n",
       "         Third  Match_index.2  \n",
       "0  Netherlands             33  \n",
       "1      Senegal             34  \n",
       "2      Ecuador             34  \n",
       "3        Qatar             33  \n",
       "4        Wales             35  "
      ]
     },
     "execution_count": 126,
     "metadata": {},
     "output_type": "execute_result"
    }
   ],
   "source": [
    "groups.head()"
   ]
  },
  {
   "cell_type": "code",
   "execution_count": 127,
   "metadata": {},
   "outputs": [],
   "source": [
    "data['tvalue_difference'] = data['tvalue_home'] - data['tvalue_away']\n",
    "data['is_won'] = (data['home_team_result'] == 'Win') * 1"
   ]
  },
  {
   "cell_type": "code",
   "execution_count": 128,
   "metadata": {},
   "outputs": [],
   "source": [
    "X = data.loc[:, ['mean_coeff', 'tvalue_home', 'tvalue_away', 'importance']]\n",
    "Y = data['is_won']\n"
   ]
  },
  {
   "cell_type": "code",
   "execution_count": 129,
   "metadata": {},
   "outputs": [],
   "source": [
    "x_train, x_test, y_train, y_test = train_test_split(\n",
    "    X, Y, test_size=0.5, train_size = 0.5, shuffle = True)"
   ]
  },
  {
   "cell_type": "code",
   "execution_count": 130,
   "metadata": {},
   "outputs": [
    {
     "data": {
      "text/plain": [
       "66.81"
      ]
     },
     "execution_count": 130,
     "metadata": {},
     "output_type": "execute_result"
    }
   ],
   "source": [
    "logreg = LogisticRegression()\n",
    "logreg.fit(x_train, y_train)\n",
    "log_pred = logreg.predict(x_test)\n",
    "acc_log = round(logreg.score(x_test, y_test) * 100, 2)\n",
    "acc_log"
   ]
  },
  {
   "cell_type": "code",
   "execution_count": 131,
   "metadata": {},
   "outputs": [],
   "source": [
    "m, n = X.shape\n",
    "\n",
    "X = np.concatenate([np.ones((m, 1)), X], axis=1)"
   ]
  },
  {
   "cell_type": "code",
   "execution_count": 132,
   "metadata": {},
   "outputs": [],
   "source": [
    "def sigmoid(z):\n",
    "    z = np.array(z)\n",
    "    g = np.zeros(z.shape)\n",
    "    g = 1 / (1 + np.exp(-z))\n",
    "    return g"
   ]
  },
  {
   "cell_type": "code",
   "execution_count": 133,
   "metadata": {},
   "outputs": [],
   "source": [
    "# def costFunction(theta, X, Y):\n",
    "    \n",
    "#     m = Y.size \n",
    "\n",
    "#     J = 0\n",
    "#     grad = np.zeros(theta.shape)\n",
    "\n",
    "#     h = sigmoid(X.dot(theta.T))\n",
    "\n",
    "#     J = (-1/m) * sum((Y*np.log(h)) + (1-Y)*np.log(1-h))\n",
    "#     grad = (1/m) * (h - Y).dot(X)\n",
    "    \n",
    "#     return J, grad"
   ]
  },
  {
   "cell_type": "code",
   "execution_count": 134,
   "metadata": {},
   "outputs": [],
   "source": [
    "# initial_theta = np.zeros(n+1)\n",
    "# options= {'maxiter': 400}\n",
    "\n",
    "\n",
    "# res = optimize.minimize(costFunction,\n",
    "#                         initial_theta,\n",
    "#                         (X, Y),\n",
    "#                         jac=True,\n",
    "#                         method='TNC',\n",
    "#                         options=options)\n",
    "\n",
    "\n",
    "# cost = res.fun\n",
    "\n",
    "# theta = res.x"
   ]
  },
  {
   "cell_type": "code",
   "execution_count": 141,
   "metadata": {},
   "outputs": [],
   "source": [
    "def predict(theta, X):\n",
    "    m = X.shape[0] \n",
    "    p = np.zeros(m)\n",
    "\n",
    "    h = sigmoid(X.dot(theta.T))\n",
    "\n",
    "    p = np.round(h)\n",
    "    \n",
    "    return p"
   ]
  },
  {
   "cell_type": "code",
   "execution_count": 136,
   "metadata": {},
   "outputs": [],
   "source": [
    "# prob = sigmoid(np.dot(X[1], theta))\n",
    "# print(prob)\n",
    "# p = predict(theta, X)\n",
    "# print(np.mean(p == Y) * 100)"
   ]
  },
  {
   "cell_type": "code",
   "execution_count": 137,
   "metadata": {},
   "outputs": [],
   "source": [
    "def costFunctionReg(theta, X, Y, lambda_):\n",
    "   \n",
    "    m = Y.size  \n",
    "\n",
    "    J = 0\n",
    "    grad = np.zeros(theta.shape)\n",
    "\n",
    "    h = sigmoid(X.dot(theta.T))\n",
    "    theta_ = theta\n",
    "    theta_[0] = 0\n",
    "    J = -(1/m)*(np.sum(Y*np.log(h) + (1-Y)*np.log(1-h))) + (lambda_/(2*m)) * (np.sum(np.square(theta_)))\n",
    "    grad = (1/m) * (h - Y).dot(X)\n",
    "    \n",
    "    grad = (1/m)* (h-Y).dot(X) + (lambda_ / m)*(theta_)\n",
    "    \n",
    "    return J, grad"
   ]
  },
  {
   "cell_type": "code",
   "execution_count": 142,
   "metadata": {},
   "outputs": [],
   "source": [
    "initial_theta = np.zeros(X.shape[1])\n",
    "\n",
    "lambda_ = 1\n",
    "\n",
    "options= {'maxfun': 100}\n",
    "\n",
    "res = optimize.minimize(costFunctionReg,\n",
    "                        initial_theta,\n",
    "                        (X, Y, lambda_),\n",
    "                        jac=True,\n",
    "                        method='TNC',\n",
    "                        options=options)\n",
    "\n",
    "cost = res.fun\n",
    "theta = res.x\n",
    "\n",
    "p = predict(theta, X)\n"
   ]
  },
  {
   "cell_type": "code",
   "execution_count": 144,
   "metadata": {},
   "outputs": [
    {
     "name": "stdout",
     "output_type": "stream",
     "text": [
      "0.2813268867716045\n",
      "66.9202792525396\n"
     ]
    }
   ],
   "source": [
    "prob = sigmoid(np.dot(X[0], theta))\n",
    "print(prob)\n",
    "p = predict(theta, X)\n",
    "print(np.mean(p == Y) * 100)"
   ]
  },
  {
   "cell_type": "markdown",
   "metadata": {},
   "source": [
    "## Group Stage set-up"
   ]
  },
  {
   "cell_type": "code",
   "execution_count": 147,
   "metadata": {},
   "outputs": [
    {
     "name": "stdout",
     "output_type": "stream",
     "text": [
      "====Group G====\n",
      "{} vs {} :\n"
     ]
    },
    {
     "ename": "AttributeError",
     "evalue": "'NoneType' object has no attribute 'format'",
     "output_type": "error",
     "traceback": [
      "\u001b[1;31m---------------------------------------------------------------------------\u001b[0m",
      "\u001b[1;31mAttributeError\u001b[0m                            Traceback (most recent call last)",
      "Cell \u001b[1;32mIn [147], line 4\u001b[0m\n\u001b[0;32m      2\u001b[0m \u001b[39mprint\u001b[39m(\u001b[39m'\u001b[39m\u001b[39m====Group \u001b[39m\u001b[39m{}\u001b[39;00m\u001b[39m====\u001b[39m\u001b[39m'\u001b[39m\u001b[39m.\u001b[39mformat(group))\n\u001b[0;32m      3\u001b[0m \u001b[39mfor\u001b[39;00m home, away \u001b[39min\u001b[39;00m combinations (groups\u001b[39m.\u001b[39mquery(\u001b[39m'\u001b[39m\u001b[39mGroup == \u001b[39m\u001b[39m\"\u001b[39m\u001b[39m{}\u001b[39;00m\u001b[39m\"\u001b[39m\u001b[39m'\u001b[39m\u001b[39m.\u001b[39mformat(group))\u001b[39m.\u001b[39mvalues, \u001b[39m2\u001b[39m):\n\u001b[1;32m----> 4\u001b[0m     \u001b[39mprint\u001b[39;49m(\u001b[39m\"\u001b[39;49m\u001b[39m{}\u001b[39;49;00m\u001b[39m vs \u001b[39;49m\u001b[39m{}\u001b[39;49;00m\u001b[39m :\u001b[39;49m\u001b[39m\"\u001b[39;49m )\u001b[39m.\u001b[39;49mformat(home[\u001b[39m0\u001b[39m], away[\u001b[39m0\u001b[39m], end\u001b[39m=\u001b[39m\u001b[39m'\u001b[39m\u001b[39m'\u001b[39m)\n\u001b[0;32m      5\u001b[0m     home \u001b[39m=\u001b[39m home[\u001b[39m0\u001b[39m]\n\u001b[0;32m      6\u001b[0m     away \u001b[39m=\u001b[39m away[\u001b[39m0\u001b[39m]\n",
      "\u001b[1;31mAttributeError\u001b[0m: 'NoneType' object has no attribute 'format'"
     ]
    }
   ],
   "source": [
    "for group in set(groups['Group']):\n",
    "    print('====Group {}===='.format(group))\n",
    "    for home, away in combinations (groups.query('Group == \"{}\"'.format(group)).values, 2):\n",
    "        print(\"{} vs {} :\" ).format(home[0], away[0], end='')\n",
    "        home = home[0]\n",
    "        away = away[0]\n",
    "        "
   ]
  }
 ],
 "metadata": {
  "kernelspec": {
   "display_name": "Python 3.10.8 64-bit (microsoft store)",
   "language": "python",
   "name": "python3"
  },
  "language_info": {
   "codemirror_mode": {
    "name": "ipython",
    "version": 3
   },
   "file_extension": ".py",
   "mimetype": "text/x-python",
   "name": "python",
   "nbconvert_exporter": "python",
   "pygments_lexer": "ipython3",
   "version": "3.10.8"
  },
  "orig_nbformat": 4,
  "vscode": {
   "interpreter": {
    "hash": "e0acaf148705ed9ed86cc5cad12259d7985e30670e5686e5f55604a9b3b84a55"
   }
  }
 },
 "nbformat": 4,
 "nbformat_minor": 2
}
