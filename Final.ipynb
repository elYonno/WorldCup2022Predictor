{
 "cells": [
  {
   "cell_type": "markdown",
   "metadata": {},
   "source": [
    "# World Cup 2022 Prediction\n",
    "\n",
    "## Introduction\n",
    "\n",
    "With the World Cup ongoing at the time of writing this, it will be very interesting to predict the winners. In this notebook, we used past international game results to learn, cross validate, and test a linear regression model that will predict the expected goals for each match. This dataset can be found in Past_International_Matches.csv, which we derived from Kaggle ([FIFA World Cup 2022 ⚽️🏆](https://www.kaggle.com/datasets/brenda89/fifa-world-cup-2022)).\n",
    "\n",
    "We then used this model then simulate the whole competion. This means predicting each game in the group stage to find out who will qualify for the knock out stages, and then use the predefined tournament bracket for this World Cup. We will iterate many simulations to find the chance of each team winning this World Cup.\n",
    "\n",
    "## Import and Set Up\n",
    "\n",
    "In this section we will import the necessary libraries, read the dataset, and store it in matrices."
   ]
  },
  {
   "cell_type": "markdown",
   "metadata": {},
   "source": [
    "## Data Visualisation"
   ]
  },
  {
   "cell_type": "code",
   "execution_count": 1,
   "metadata": {},
   "outputs": [],
   "source": [
    "from mpl_toolkits import mplot3d\n",
    "import matplotlib.pyplot as plt"
   ]
  },
  {
   "cell_type": "code",
   "execution_count": 2,
   "metadata": {},
   "outputs": [],
   "source": [
    "import numpy as np\n",
    "import pandas as pd\n",
    "import  math\n",
    "from scipy import optimize\n",
    "from itertools import combinations\n",
    "import tensorflow as tf\n",
    "from tensorflow import keras\n",
    "from tensorflow.keras import layers\n",
    "\n",
    "import sklearn\n",
    "from sklearn import linear_model\n",
    "from sklearn import ensemble\n",
    "from sklearn.model_selection import train_test_split\n",
    "from sklearn.metrics import confusion_matrix, roc_curve, roc_auc_score\n",
    "from sklearn.pipeline import Pipeline\n",
    "from sklearn.preprocessing import PolynomialFeatures\n",
    "from sklearn.neural_network import MLPClassifier\n",
    "from sklearn.linear_model import LogisticRegression\n",
    "from sklearn.svm import SVC, LinearSVC\n",
    "from sklearn.ensemble import RandomForestClassifier\n",
    "from sklearn.neighbors import KNeighborsClassifier\n",
    "from sklearn.naive_bayes import GaussianNB\n",
    "from sklearn.linear_model import Perceptron\n",
    "from sklearn.linear_model import SGDClassifier\n",
    "from sklearn.tree import DecisionTreeClassifier\n",
    "from sklearn.linear_model import LinearRegression\n",
    "from sklearn.neural_network import MLPClassifier\n"
   ]
  },
  {
   "cell_type": "code",
   "execution_count": 3,
   "metadata": {},
   "outputs": [],
   "source": [
    "groups = pd.read_csv('groupstage.csv')\n",
    "data = pd.read_csv('Past_International_Matches.csv')\n",
    "# groups.set_index(['Country_Name'])\n"
   ]
  },
  {
   "cell_type": "code",
   "execution_count": 4,
   "metadata": {},
   "outputs": [],
   "source": [
    "data['tvalue_difference'] = data['tvalue_home'] - data['tvalue_away']\n",
    "data['is_won'] = (data['home_team_result'] == 'Win') * 1\n",
    "# data['is_draw'] = (data['home_team_result'] == 'Draw') * 1\n",
    "data['is_lost'] = (data['home_team_result'] == 'Lose') * 1\n",
    "\n",
    "data['polyn1'] = data['away_team_total_fifa_points'] * data['home_team_total_fifa_points']\n",
    "data['polyn2'] = np.square(data['mean_coeff'])"
   ]
  },
  {
   "cell_type": "markdown",
   "metadata": {},
   "source": [
    "## Training "
   ]
  },
  {
   "cell_type": "code",
   "execution_count": 5,
   "metadata": {},
   "outputs": [
    {
     "name": "stdout",
     "output_type": "stream",
     "text": [
      "      mean_coeff  home_team_fifa_rank  away_team_fifa_rank  importance\n",
      "0          0.925                  114                  158         1.0\n",
      "1          0.850                  120                  129         1.0\n",
      "2          0.850                  108                   88         1.0\n",
      "3          0.850                  101                   98         1.0\n",
      "4          0.850                   96                  127         1.0\n",
      "...          ...                  ...                  ...         ...\n",
      "9666       0.990                  180                  153         2.5\n",
      "9667       0.990                  192                  135         2.5\n",
      "9668       0.925                   28                   60         1.0\n",
      "9669       0.850                   23                   35         1.0\n",
      "9670       0.850                   29                   32         1.0\n",
      "\n",
      "[9671 rows x 4 columns]\n"
     ]
    }
   ],
   "source": [
    "X = data.loc[:, ['mean_coeff', 'home_team_fifa_rank', 'away_team_fifa_rank', 'importance']]\n",
    "y = data.loc[:,['is_won']]\n",
    "print(X)"
   ]
  },
  {
   "cell_type": "code",
   "execution_count": 6,
   "metadata": {},
   "outputs": [
    {
     "name": "stderr",
     "output_type": "stream",
     "text": [
      "C:\\Users\\jadoh\\AppData\\Local\\Packages\\PythonSoftwareFoundation.Python.3.10_qbz5n2kfra8p0\\LocalCache\\local-packages\\Python310\\site-packages\\sklearn\\neural_network\\_multilayer_perceptron.py:1118: DataConversionWarning: A column-vector y was passed when a 1d array was expected. Please change the shape of y to (n_samples, ), for example using ravel().\n",
      "  y = column_or_1d(y, warn=True)\n"
     ]
    },
    {
     "data": {
      "text/plain": [
       "array([0, 0, 1, ..., 0, 0, 1])"
      ]
     },
     "execution_count": 6,
     "metadata": {},
     "output_type": "execute_result"
    }
   ],
   "source": [
    "x_train, x_test, y_train, y_test = train_test_split(\n",
    "    X, y, test_size=0.3, train_size = 0.7, shuffle = True)\n",
    "\n",
    "# logreg = LogisticRegression()\n",
    "# logreg.fit(x_train, y_train)\n",
    "# log_pred = logreg.predict(x_test)\n",
    "# acc_log = round(logreg.score(x_test, y_test) * 100, 2)\n",
    "# acc_log\n",
    "\n",
    "mlp = MLPClassifier(solver='sgd')\n",
    "mlp.fit(x_train, y_train)\n",
    "\n",
    "predict_test = mlp.predict(x_test)\n",
    "predict_train = mlp.predict(x_train)\n",
    "predict_test\n",
    "\n",
    "# acc_mlp = round(mlp.score(x_test, y_test) * 100, 2)\n",
    "# acc_mlp\n"
   ]
  },
  {
   "cell_type": "markdown",
   "metadata": {},
   "source": [
    "## Group Stage"
   ]
  },
  {
   "cell_type": "code",
   "execution_count": 13,
   "metadata": {},
   "outputs": [
    {
     "name": "stdout",
     "output_type": "stream",
     "text": [
      "====Group A====\n",
      "Qatar vs Ecuador : \n",
      "Ecuador wins\n",
      "Qatar vs Senegal : \n",
      "Senegal wins\n",
      "Qatar vs Netherlands : \n",
      "Netherlands wins\n",
      "Ecuador vs Senegal : \n",
      "Senegal wins\n",
      "Ecuador vs Netherlands : \n",
      "Netherlands wins\n",
      "Senegal vs Netherlands : \n",
      "Netherlands wins\n",
      "====Group D====\n",
      "France vs Denmark : \n",
      "Denmark wins\n",
      "France vs Tunisia : \n",
      "France wins\n",
      "France vs Australia : \n",
      "France wins\n",
      "Denmark vs Tunisia : \n",
      "Denmark wins\n",
      "Denmark vs Australia : \n",
      "Denmark wins\n",
      "Tunisia vs Australia : \n",
      "Australia wins\n",
      "====Group G====\n",
      "Brazil vs Serbia : \n",
      "Brazil wins\n",
      "Brazil vs Switzerland : \n",
      "Brazil wins\n",
      "Brazil vs Cameroon : \n",
      "Brazil wins\n",
      "Serbia vs Switzerland : \n",
      "Switzerland wins\n",
      "Serbia vs Cameroon : \n",
      "Serbia wins\n",
      "Switzerland vs Cameroon : \n",
      "Switzerland wins\n",
      "====Group C====\n",
      "Argentina vs Saudi Arabia : \n",
      "Argentina wins\n",
      "Argentina vs Mexico : \n",
      "Argentina wins\n",
      "Argentina vs Poland : \n",
      "Argentina wins\n",
      "Saudi Arabia vs Mexico : \n",
      "Mexico wins\n",
      "Saudi Arabia vs Poland : \n",
      "Poland wins\n",
      "Mexico vs Poland : \n",
      "Mexico wins\n",
      "====Group E====\n",
      "Spain vs Germany : \n",
      "Germany wins\n",
      "Spain vs Japan : \n",
      "Spain wins\n",
      "Spain vs Costa Rica : \n",
      "Spain wins\n",
      "Germany vs Japan : \n",
      "Germany wins\n",
      "Germany vs Costa Rica : \n",
      "Germany wins\n",
      "Japan vs Costa Rica : \n",
      "Costa Rica wins\n",
      "====Group B====\n",
      "England vs IR Iran : \n",
      "England wins\n",
      "England vs USA : \n",
      "England wins\n",
      "England vs Wales : \n",
      "England wins\n",
      "IR Iran vs USA : \n",
      "USA wins\n",
      "IR Iran vs Wales : \n",
      "Wales wins\n",
      "USA vs Wales : \n",
      "Wales wins\n",
      "====Group H====\n",
      "Portugal vs Ghana : \n",
      "Portugal wins\n",
      "Portugal vs Uruguay : \n",
      "Uruguay wins\n",
      "Portugal vs Korea Republic : \n",
      "Portugal wins\n",
      "Ghana vs Uruguay : \n",
      "Uruguay wins\n",
      "Ghana vs Korea Republic : \n",
      "Korea Republic wins\n",
      "Uruguay vs Korea Republic : \n",
      "Uruguay wins\n",
      "====Group F====\n",
      "Belgium vs Canada : \n",
      "Belgium wins\n",
      "Belgium vs Morocco : \n",
      "Belgium wins\n",
      "Belgium vs Croatia : \n",
      "Belgium wins\n",
      "Canada vs Morocco : \n",
      "Morocco wins\n",
      "Canada vs Croatia : \n",
      "Croatia wins\n",
      "Morocco vs Croatia : \n",
      "Croatia wins\n"
     ]
    }
   ],
   "source": [
    "groups_use = groups.set_index(['Country_Name'])\n",
    "groups_use['points'] = 0\n",
    "for group in set(groups['Group']):\n",
    "    print('====Group {}===='.format(group))\n",
    "    for home, away in combinations (groups.query('Group == \"{}\"'.format(group)).values, 2):\n",
    "        print(\"{} vs {} : \" .format(home[0], away[0], end=''))\n",
    "        row = pd.DataFrame(np.array([[np.nan, np.nan, np.nan, np.nan]]), columns=X.columns)\n",
    "        home = home[0]\n",
    "        away = away[0]\n",
    "\n",
    "        home_coeff = groups_use.loc[home, 'conf_coeff']\n",
    "        away_coeff = groups_use.loc[away, 'conf_coeff']\n",
    "        home_rank = groups_use.loc[home, 'Rank']\n",
    "        away_rank = groups_use.loc[away, 'Rank']\n",
    "\n",
    "        row['mean_coeff'] = (home_coeff + away_coeff)/2\n",
    "        row['home_team_fifa_rank'] = home_rank\n",
    "        row['away_team_fifa_rank'] = away_rank\n",
    "        row['importance'] = 2.5\n",
    "\n",
    "        #PUT MODEL OUTPUT AFTER\n",
    "        prediction_model = mlp.predict(row)[:][0]\n",
    "        \n",
    "\n",
    "        points = 0 \n",
    "        if prediction_model == 0 :\n",
    "            groups_use.loc[away, 'points'] += 3\n",
    "            print(\"{} wins\".format(away))\n",
    "            \n",
    "        if prediction_model == 1:\n",
    "            groups_use.loc[home, 'points'] += 3\n",
    "            print(\"{} wins\".format(home))\n",
    "\n"
   ]
  },
  {
   "cell_type": "code",
   "execution_count": 14,
   "metadata": {},
   "outputs": [
    {
     "name": "stdout",
     "output_type": "stream",
     "text": [
      "               Group  conf_coeff  Rank  points\n",
      "Country_Name                                  \n",
      "Netherlands        A        0.99     8       9\n",
      "Senegal            A        0.85    18       6\n",
      "Ecuador            A        1.00    44       3\n",
      "Qatar              A        0.85    50       0\n",
      "England            B        0.99     5       9\n",
      "Wales              B        0.99    19       6\n",
      "USA                B        0.85    16       3\n",
      "IR Iran            B        0.85    20       0\n",
      "Argentina          C        1.00     3       9\n",
      "Mexico             C        0.85    13       6\n",
      "Poland             C        0.99    26       3\n",
      "Saudi Arabia       C        0.85    51       0\n",
      "Denmark            D        0.99    10       9\n",
      "France             D        0.99     4       6\n",
      "Australia          D        0.85    38       3\n",
      "Tunisia            D        0.85    30       0\n",
      "Germany            E        0.99    11       9\n",
      "Spain              E        0.99     7       6\n",
      "Costa Rica         E        0.85    31       3\n",
      "Japan              E        0.85    24       0\n",
      "Belgium            F        0.99     2       9\n",
      "Croatia            F        0.99    12       6\n",
      "Morocco            F        0.85    22       3\n",
      "Canada             F        0.85    41       0\n",
      "Brazil             G        1.00     1       9\n",
      "Switzerland        G        0.99    15       6\n",
      "Serbia             G        0.99    21       3\n",
      "Cameroon           G        0.85    43       0\n",
      "Uruguay            H        1.00    14       9\n",
      "Portugal           H        0.99     9       6\n",
      "Korea Republic     H        0.85    28       3\n",
      "Ghana              H        0.85    61       0\n"
     ]
    }
   ],
   "source": [
    "groups_use = groups_use.sort_values(by =['Group', 'points'], ascending = [True, False])          \n",
    "print(groups_use)\n",
    " "
   ]
  }
 ],
 "metadata": {
  "kernelspec": {
   "display_name": "Python 3.10.8 64-bit (microsoft store)",
   "language": "python",
   "name": "python3"
  },
  "language_info": {
   "codemirror_mode": {
    "name": "ipython",
    "version": 3
   },
   "file_extension": ".py",
   "mimetype": "text/x-python",
   "name": "python",
   "nbconvert_exporter": "python",
   "pygments_lexer": "ipython3",
   "version": "3.10.9"
  },
  "orig_nbformat": 4,
  "vscode": {
   "interpreter": {
    "hash": "f062fd6f2fb4590fb7c59d532bc60582a87e799a0df8a13418a3777be767b87f"
   }
  }
 },
 "nbformat": 4,
 "nbformat_minor": 2
}
