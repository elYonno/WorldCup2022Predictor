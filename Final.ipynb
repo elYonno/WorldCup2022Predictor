{
 "cells": [
  {
   "cell_type": "markdown",
   "metadata": {},
   "source": [
    "# World Cup 2022 Prediction\n",
    "\n",
    "## Introduction\n",
    "\n",
    "With the World Cup ongoing at the time of writing this, it will be very interesting to predict the winners. In this notebook, we used past international game results to learn, cross validate, and test a linear regression model that will predict the expected goals for each match. This dataset can be found in Past_International_Matches.csv, which we derived from Kaggle ([FIFA World Cup 2022 ⚽️🏆](https://www.kaggle.com/datasets/brenda89/fifa-world-cup-2022)).\n",
    "\n",
    "We then used this model then simulate the whole competion. This means predicting each game in the group stage to find out who will qualify for the knock out stages, and then use the predefined tournament bracket for this World Cup. We will iterate many simulations to find the chance of each team winning this World Cup.\n",
    "\n",
    "## Import and Set Up\n",
    "\n",
    "In this section we will import the necessary libraries, read the dataset, and store it in matrices."
   ]
  },
  {
   "cell_type": "code",
   "execution_count": 17,
   "metadata": {},
   "outputs": [],
   "source": [
    "from mpl_toolkits import mplot3d\n",
    "import matplotlib.pyplot as plt"
   ]
  },
  {
   "cell_type": "code",
   "execution_count": 18,
   "metadata": {},
   "outputs": [],
   "source": [
    "import numpy as np\n",
    "import pandas as pd\n",
    "import  math\n",
    "from scipy import optimize\n",
    "from itertools import combinations\n",
    "import tensorflow as tf\n",
    "from tensorflow import keras\n",
    "from tensorflow.keras import layers\n",
    "\n",
    "import sklearn\n",
    "from sklearn import linear_model\n",
    "from sklearn import ensemble\n",
    "from sklearn.model_selection import train_test_split\n",
    "from sklearn.metrics import confusion_matrix, roc_curve, roc_auc_score\n",
    "from sklearn.pipeline import Pipeline\n",
    "from sklearn.preprocessing import PolynomialFeatures\n",
    "from sklearn.neural_network import MLPClassifier\n",
    "from sklearn.linear_model import LogisticRegression\n",
    "from sklearn.svm import SVC, LinearSVC\n",
    "from sklearn.ensemble import RandomForestClassifier\n",
    "from sklearn.neighbors import KNeighborsClassifier\n",
    "from sklearn.naive_bayes import GaussianNB\n",
    "from sklearn.linear_model import Perceptron\n",
    "from sklearn.linear_model import SGDClassifier\n",
    "from sklearn.tree import DecisionTreeClassifier\n",
    "from sklearn.linear_model import LinearRegression\n",
    "from sklearn.neural_network import MLPClassifier\n"
   ]
  },
  {
   "cell_type": "code",
   "execution_count": 116,
   "metadata": {},
   "outputs": [],
   "source": [
    "groups = pd.read_csv('groupstage.csv')\n",
    "data = pd.read_csv('Past_International_Matches_Points.csv')\n",
    "# groups.set_index(['Country_Name'])\n"
   ]
  },
  {
   "cell_type": "code",
   "execution_count": 121,
   "metadata": {},
   "outputs": [],
   "source": [
    "data['tvalue_difference'] = data['tvalue_home'] - data['tvalue_away']\n",
    "data['result'] = (data['home_team_result'] == 'Win') * 3 + (data['home_team_result'] == 'Draw') * 2 + (data['home_team_result'] == 'Lose') * 1\n",
    "\n",
    "data['neutral'] = (data['neutral_location'] == 'TRUE') * 1"
   ]
  },
  {
   "cell_type": "markdown",
   "metadata": {},
   "source": [
    "## Training "
   ]
  },
  {
   "cell_type": "code",
   "execution_count": 122,
   "metadata": {},
   "outputs": [
    {
     "name": "stdout",
     "output_type": "stream",
     "text": [
      "       mean_coeff  home_team_fifa_rank  away_team_fifa_rank  importance  \\\n",
      "0           1.000                   59                   22         2.5   \n",
      "1           0.925                    8                   14         1.0   \n",
      "2           1.000                   35                   94         2.5   \n",
      "3           0.850                   65                   86         1.0   \n",
      "4           1.000                   67                    5         2.5   \n",
      "...           ...                  ...                  ...         ...   \n",
      "23916       0.990                  180                  153         2.5   \n",
      "23917       0.990                  192                  135         2.5   \n",
      "23918       0.925                   28                   60         1.0   \n",
      "23919       0.850                   23                   35         1.0   \n",
      "23920       0.850                   29                   32         1.0   \n",
      "\n",
      "       neutral  \n",
      "0            0  \n",
      "1            0  \n",
      "2            0  \n",
      "3            0  \n",
      "4            0  \n",
      "...        ...  \n",
      "23916        0  \n",
      "23917        0  \n",
      "23918        0  \n",
      "23919        0  \n",
      "23920        0  \n",
      "\n",
      "[23921 rows x 5 columns]\n",
      "       result\n",
      "0           3\n",
      "1           2\n",
      "2           3\n",
      "3           3\n",
      "4           1\n",
      "...       ...\n",
      "23916       3\n",
      "23917       1\n",
      "23918       1\n",
      "23919       1\n",
      "23920       3\n",
      "\n",
      "[23921 rows x 1 columns]\n"
     ]
    }
   ],
   "source": [
    "X = data.loc[:, ['mean_coeff', 'home_team_fifa_rank', 'away_team_fifa_rank', 'importance', 'neutral']]\n",
    "y = data.loc[:,['result']]\n",
    "print(X)\n",
    "print(y)"
   ]
  },
  {
   "cell_type": "code",
   "execution_count": 126,
   "metadata": {},
   "outputs": [
    {
     "name": "stderr",
     "output_type": "stream",
     "text": [
      "C:\\Users\\jadoh\\AppData\\Local\\Packages\\PythonSoftwareFoundation.Python.3.10_qbz5n2kfra8p0\\LocalCache\\local-packages\\Python310\\site-packages\\sklearn\\neural_network\\_multilayer_perceptron.py:1118: DataConversionWarning: A column-vector y was passed when a 1d array was expected. Please change the shape of y to (n_samples, ), for example using ravel().\n",
      "  y = column_or_1d(y, warn=True)\n"
     ]
    },
    {
     "name": "stdout",
     "output_type": "stream",
     "text": [
      "112\n"
     ]
    },
    {
     "data": {
      "text/plain": [
       "56.63"
      ]
     },
     "execution_count": 126,
     "metadata": {},
     "output_type": "execute_result"
    }
   ],
   "source": [
    "x_train, x_test, y_train, y_test = train_test_split(\n",
    "    X, y, test_size=0.3, train_size = 0.7, shuffle = True)\n",
    "\n",
    "# logreg = LogisticRegression()\n",
    "# logreg.fit(x_train, y_train)\n",
    "# log_pred = logreg.predict(x_test)\n",
    "# acc_log = round(logreg.score(x_test, y_test) * 100, 2)\n",
    "# acc_log\n",
    "\n",
    "mlp = MLPClassifier()\n",
    "mlp.fit(x_train, y_train)\n",
    "\n",
    "predict_test = mlp.predict(x_test)\n",
    "predict_train = mlp.predict(x_train)\n",
    "\n",
    "print(sum(predict_test == 2))\n",
    "\n",
    "acc_mlp = round(mlp.score(x_test, y_test) * 100, 2)\n",
    "acc_mlp\n"
   ]
  },
  {
   "cell_type": "markdown",
   "metadata": {},
   "source": [
    "## Group Stage"
   ]
  },
  {
   "cell_type": "code",
   "execution_count": 131,
   "metadata": {},
   "outputs": [
    {
     "name": "stdout",
     "output_type": "stream",
     "text": [
      "====Group D====\n",
      "France vs Denmark : \n",
      "France wins\n",
      "France vs Tunisia : \n",
      "France wins\n",
      "France vs Australia : \n",
      "France wins\n",
      "Denmark vs Tunisia : \n",
      "Denmark wins\n",
      "Denmark vs Australia : \n",
      "Denmark wins\n",
      "Tunisia vs Australia : \n",
      "Tunisia wins\n",
      "====Group F====\n",
      "Belgium vs Canada : \n",
      "Belgium wins\n",
      "Belgium vs Morocco : \n",
      "Belgium wins\n",
      "Belgium vs Croatia : \n",
      "Belgium wins\n",
      "Canada vs Morocco : \n",
      "Morocco wins\n",
      "Canada vs Croatia : \n",
      "Croatia wins\n",
      "Morocco vs Croatia : \n",
      "Croatia wins\n",
      "====Group G====\n",
      "Brazil vs Serbia : \n",
      "Brazil wins\n",
      "Brazil vs Switzerland : \n",
      "Brazil wins\n",
      "Brazil vs Cameroon : \n",
      "Brazil wins\n",
      "Serbia vs Switzerland : \n",
      "Serbia wins\n",
      "Serbia vs Cameroon : \n",
      "Serbia wins\n",
      "Switzerland vs Cameroon : \n",
      "Switzerland wins\n",
      "====Group E====\n",
      "Spain vs Germany : \n",
      "Spain wins\n",
      "Spain vs Japan : \n",
      "Spain wins\n",
      "Spain vs Costa Rica : \n",
      "Spain wins\n",
      "Germany vs Japan : \n",
      "Germany wins\n",
      "Germany vs Costa Rica : \n",
      "Germany wins\n",
      "Japan vs Costa Rica : \n",
      "Japan wins\n",
      "====Group H====\n",
      "Portugal vs Ghana : \n",
      "Portugal wins\n",
      "Portugal vs Uruguay : \n",
      "Portugal wins\n",
      "Portugal vs Korea Republic : \n",
      "Portugal wins\n",
      "Ghana vs Uruguay : \n",
      "Uruguay wins\n",
      "Ghana vs Korea Republic : \n",
      "Korea Republic wins\n",
      "Uruguay vs Korea Republic : \n",
      "Uruguay wins\n",
      "====Group C====\n",
      "Argentina vs Saudi Arabia : \n",
      "Argentina wins\n",
      "Argentina vs Mexico : \n",
      "Argentina wins\n",
      "Argentina vs Poland : \n",
      "Argentina wins\n",
      "Saudi Arabia vs Mexico : \n",
      "Mexico wins\n",
      "Saudi Arabia vs Poland : \n",
      "Poland wins\n",
      "Mexico vs Poland : \n",
      "Mexico wins\n",
      "====Group A====\n",
      "Qatar vs Ecuador : \n",
      "Qatar wins\n",
      "Qatar vs Senegal : \n",
      "Senegal wins\n",
      "Qatar vs Netherlands : \n",
      "Netherlands wins\n",
      "Ecuador vs Senegal : \n",
      "Senegal wins\n",
      "Ecuador vs Netherlands : \n",
      "Netherlands wins\n",
      "Senegal vs Netherlands : \n",
      "Netherlands wins\n",
      "====Group B====\n",
      "England vs IR Iran : \n",
      "England wins\n",
      "England vs USA : \n",
      "England wins\n",
      "England vs Wales : \n",
      "England wins\n",
      "IR Iran vs USA : \n",
      "IR Iran wins\n",
      "IR Iran vs Wales : \n",
      "IR Iran wins\n",
      "USA vs Wales : \n",
      "USA wins\n"
     ]
    }
   ],
   "source": [
    "groups_use = groups.set_index(['Country_Name'])\n",
    "groups_use['points'] = 0\n",
    "for group in set(groups['Group']):\n",
    "    print('====Group {}===='.format(group))\n",
    "    for home, away in combinations (groups.query('Group == \"{}\"'.format(group)).values, 2):\n",
    "        print(\"{} vs {} : \" .format(home[0], away[0], end=''))\n",
    "        row = pd.DataFrame(np.array([[np.nan, np.nan, np.nan, 4, 1]]), columns=X.columns)\n",
    "        home = home[0]\n",
    "        away = away[0]\n",
    "\n",
    "        home_coeff = groups_use.loc[home, 'conf_coeff']\n",
    "        away_coeff = groups_use.loc[away, 'conf_coeff']\n",
    "        home_rank = groups_use.loc[home, 'Rank']\n",
    "        away_rank = groups_use.loc[away, 'Rank']\n",
    "\n",
    "        row['mean_coeff'] = (home_coeff + away_coeff)/2\n",
    "        row['home_team_fifa_rank'] = home_rank\n",
    "        row['away_team_fifa_rank'] = away_rank\n",
    "        # row['importance'] = 4\n",
    "\n",
    "        #PUT MODEL OUTPUT AFTER\n",
    "        prediction_model = mlp.predict(row)[:][0]\n",
    "        points = 0 \n",
    "        if prediction_model == 1 :\n",
    "            groups_use.loc[away, 'points'] += 3\n",
    "            print(\"{} wins\".format(away))\n",
    "            \n",
    "        elif prediction_model == 2:\n",
    "            groups_use.loc[home, 'points'] += 1\n",
    "            groups_use.loc[away, 'points'] += 1\n",
    "            print(\"The match ends in a draw\")\n",
    "            \n",
    "        elif prediction_model == 3 :\n",
    "            groups_use.loc[home, 'points'] += 3\n",
    "            print(\"{} wins\".format(home))\n",
    "\n",
    "\n",
    "\n"
   ]
  },
  {
   "cell_type": "code",
   "execution_count": 132,
   "metadata": {},
   "outputs": [
    {
     "name": "stdout",
     "output_type": "stream",
     "text": [
      "               Group  conf_coeff  Rank  points\n",
      "Country_Name                                  \n",
      "Netherlands        A        0.99     8       9\n",
      "Senegal            A        0.85    18       6\n",
      "Qatar              A        0.85    50       3\n",
      "Ecuador            A        1.00    44       0\n",
      "England            B        0.99     5       9\n",
      "IR Iran            B        0.85    20       6\n",
      "USA                B        0.85    16       3\n",
      "Wales              B        0.99    19       0\n",
      "Argentina          C        1.00     3       9\n",
      "Mexico             C        0.85    13       6\n",
      "Poland             C        0.99    26       3\n",
      "Saudi Arabia       C        0.85    51       0\n",
      "France             D        0.99     4       9\n",
      "Denmark            D        0.99    10       6\n",
      "Tunisia            D        0.85    30       3\n",
      "Australia          D        0.85    38       0\n",
      "Spain              E        0.99     7       9\n",
      "Germany            E        0.99    11       6\n",
      "Japan              E        0.85    24       3\n",
      "Costa Rica         E        0.85    31       0\n",
      "Belgium            F        0.99     2       9\n",
      "Croatia            F        0.99    12       6\n",
      "Morocco            F        0.85    22       3\n",
      "Canada             F        0.85    41       0\n",
      "Brazil             G        1.00     1       9\n",
      "Serbia             G        0.99    21       6\n",
      "Switzerland        G        0.99    15       3\n",
      "Cameroon           G        0.85    43       0\n",
      "Portugal           H        0.99     9       9\n",
      "Uruguay            H        1.00    14       6\n",
      "Korea Republic     H        0.85    28       3\n",
      "Ghana              H        0.85    61       0\n"
     ]
    }
   ],
   "source": [
    "groups_use = groups_use.sort_values(by =['Group', 'points'], ascending = [True, False]) \n",
    "print(groups_use)\n",
    "\n",
    "A = groups_use[groups_use['Group'] == 'A']\n",
    "B = groups_use[groups_use['Group'] == 'B']\n",
    "C = groups_use[groups_use['Group'] == 'C']\n",
    "D = groups_use[groups_use['Group'] == 'D']\n",
    "E = groups_use[groups_use['Group'] == 'E']\n",
    "F = groups_use[groups_use['Group'] == 'F']\n",
    "G = groups_use[groups_use['Group'] == 'G']\n",
    "H = groups_use[groups_use['Group'] == 'H']"
   ]
  },
  {
   "attachments": {},
   "cell_type": "markdown",
   "metadata": {},
   "source": [
    "## Knockout stages"
   ]
  },
  {
   "cell_type": "code",
   "execution_count": 159,
   "metadata": {},
   "outputs": [],
   "source": [
    "def match_winner(home, away) :\n",
    "    row = pd.DataFrame(np.array([[np.nan, np.nan, np.nan, 4, 1]]), columns=X.columns)\n",
    "    row['mean_coeff'] = (home['conf_coeff'].values[0] + away['conf_coeff'].values[0]) / 2\n",
    "    row['home_team_fifa_rank'] = home['Rank'].values[0]\n",
    "    row['away_team_fifa_rank'] = away['Rank'].values[0]\n",
    "\n",
    "    prediction_model = mlp.predict(row)[:][0]\n",
    "\n",
    "    if prediction_model == 3:\n",
    "        return home\n",
    "    if prediction_model == 1:\n",
    "        return away\n"
   ]
  },
  {
   "cell_type": "code",
   "execution_count": 158,
   "metadata": {},
   "outputs": [
    {
     "name": "stdout",
     "output_type": "stream",
     "text": [
      "9\n"
     ]
    }
   ],
   "source": [
    "a1 = A.iloc[0:1]\n",
    "a2 = A.iloc[1:2]\n",
    "\n",
    "b1 = B.iloc[0:1]\n",
    "b2 = B.iloc[1:2]\n",
    "\n",
    "c1 = C.iloc[0:1]\n",
    "c2 = C.iloc[1:2]\n",
    "\n",
    "d1 = D.iloc[0:1]\n",
    "d2 = D.iloc[1:2]\n",
    "\n",
    "e1 = E.iloc[0:1]\n",
    "e2 = E.iloc[1:2]\n",
    "\n",
    "f1 = F.iloc[0:1]\n",
    "f2 = F.iloc[1:2]\n",
    "\n",
    "g1 = G.iloc[0:1]\n",
    "g2 = G.iloc[1:2]\n",
    "\n",
    "h1 = H.iloc[0:1]\n",
    "h2 = H.iloc[1:2]"
   ]
  },
  {
   "attachments": {},
   "cell_type": "markdown",
   "metadata": {},
   "source": [
    "### Last 16\n"
   ]
  },
  {
   "cell_type": "code",
   "execution_count": 183,
   "metadata": {},
   "outputs": [
    {
     "name": "stdout",
     "output_type": "stream",
     "text": [
      "['Netherlands vs IR Iran. Winner Netherlands']\n",
      "['Argentina vs Denmark. Winner Argentina']\n",
      "['Spain vs Croatia. Winner Spain']\n",
      "['Brazil vs Uruguay. Winner Brazil']\n",
      "['England vs Senegal. Winner England']\n",
      "['France vs Mexico. Winner France']\n",
      "['Belgium vs Germany. Winner Belgium']\n",
      "['Portugal vs Serbia. Winner Portugal']\n"
     ]
    }
   ],
   "source": [
    "\n",
    "l16_1 = match_winner(a1,b2)\n",
    "print(a1.index.values + \" vs \" + b2.index.values + \". Winner \" + l16_1.index.values)\n",
    "\n",
    "l16_2 = match_winner(c1,d2)\n",
    "print(c1.index.values + \" vs \" + d2.index.values + \". Winner \" + l16_2.index.values)\n",
    "\n",
    "l16_3 = match_winner(e1,f2)\n",
    "print(e1.index.values + \" vs \" + f2.index.values + \". Winner \" + l16_3.index.values)\n",
    "\n",
    "l16_4 = match_winner(g1,h2)\n",
    "print(g1.index.values + \" vs \" + h2.index.values + \". Winner \" + l16_4.index.values)\n",
    "\n",
    "l16_5 = match_winner(b1,a2)\n",
    "print(b1.index.values + \" vs \" + a2.index.values + \". Winner \" + l16_5.index.values)\n",
    "\n",
    "l16_6 = match_winner(d1,c2)\n",
    "print(d1.index.values + \" vs \" + c2.index.values + \". Winner \" + l16_6.index.values)\n",
    "\n",
    "l16_7 = match_winner(f1,e2)\n",
    "print(f1.index.values + \" vs \" + e2.index.values + \". Winner \" + l16_7.index.values)\n",
    "\n",
    "l16_8 = match_winner(h1,g2)\n",
    "print(h1.index.values + \" vs \" + g2.index.values + \". Winner \" + l16_8.index.values)"
   ]
  },
  {
   "attachments": {},
   "cell_type": "markdown",
   "metadata": {},
   "source": [
    "### Quarter finals"
   ]
  },
  {
   "cell_type": "code",
   "execution_count": 184,
   "metadata": {},
   "outputs": [
    {
     "name": "stdout",
     "output_type": "stream",
     "text": [
      "['Netherlands vs Argentina. Winner Argentina']\n",
      "['Spain vs Brazil. Winner Brazil']\n",
      "['England vs France. Winner France']\n",
      "['Belgium vs Portugal. Winner Belgium']\n"
     ]
    }
   ],
   "source": [
    "qf_1 = match_winner(l16_1, l16_2)\n",
    "print(l16_1.index.values + \" vs \" + l16_2.index.values + \". Winner \" + qf_1.index.values)\n",
    "\n",
    "qf_2 = match_winner(l16_3, l16_4)\n",
    "print(l16_3.index.values + \" vs \" + l16_4.index.values + \". Winner \" + qf_2.index.values)\n",
    "\n",
    "qf_3 = match_winner(l16_5,l16_6)\n",
    "print(l16_5.index.values + \" vs \" + l16_6.index.values + \". Winner \" + qf_3.index.values)\n",
    "\n",
    "qf_4 = match_winner(l16_7, l16_8)\n",
    "print(l16_7.index.values + \" vs \" + l16_8.index.values + \". Winner \" + qf_4.index.values)\n"
   ]
  },
  {
   "attachments": {},
   "cell_type": "markdown",
   "metadata": {},
   "source": [
    "### Semi-Finals"
   ]
  },
  {
   "cell_type": "code",
   "execution_count": 186,
   "metadata": {},
   "outputs": [
    {
     "name": "stdout",
     "output_type": "stream",
     "text": [
      "['Argentina vs Brazil. Winner Argentina']\n",
      "['France vs Belgium. Winner Belgium']\n"
     ]
    }
   ],
   "source": [
    "sf_1 = match_winner(qf_1, qf_2)\n",
    "print(qf_1.index.values + \" vs \" + qf_2.index.values + \". Winner \" + sf_1.index.values)\n",
    "\n",
    "sf_2 = match_winner(qf_3, qf_4)\n",
    "print(qf_3.index.values + \" vs \" + qf_4.index.values + \". Winner \" + sf_2.index.values)"
   ]
  },
  {
   "attachments": {},
   "cell_type": "markdown",
   "metadata": {},
   "source": [
    "### FINALS !!!!!"
   ]
  },
  {
   "cell_type": "code",
   "execution_count": 187,
   "metadata": {},
   "outputs": [
    {
     "name": "stdout",
     "output_type": "stream",
     "text": [
      "['Argentina vs Belgium. Winner Argentina']\n"
     ]
    }
   ],
   "source": [
    "final_winner = match_winner(sf_1, sf_2)\n",
    "print(sf_1.index.values + \" vs \" + sf_2.index.values + \". Winner \" + final_winner.index.values)"
   ]
  }
 ],
 "metadata": {
  "kernelspec": {
   "display_name": "Python 3.10.8 64-bit (microsoft store)",
   "language": "python",
   "name": "python3"
  },
  "language_info": {
   "codemirror_mode": {
    "name": "ipython",
    "version": 3
   },
   "file_extension": ".py",
   "mimetype": "text/x-python",
   "name": "python",
   "nbconvert_exporter": "python",
   "pygments_lexer": "ipython3",
   "version": "3.10.9"
  },
  "orig_nbformat": 4,
  "vscode": {
   "interpreter": {
    "hash": "f062fd6f2fb4590fb7c59d532bc60582a87e799a0df8a13418a3777be767b87f"
   }
  }
 },
 "nbformat": 4,
 "nbformat_minor": 2
}
